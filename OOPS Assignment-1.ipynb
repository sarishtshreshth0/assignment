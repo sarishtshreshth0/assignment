{
 "cells": [
  {
   "cell_type": "code",
   "execution_count": null,
   "id": "81242ae9-7d0e-45f0-9e28-eada59010825",
   "metadata": {},
   "outputs": [],
   "source": [
    "Q1. Explain Class and Object with respect to Object-Oriented Programming. Give a suitable example.\n"
   ]
  },
  {
   "cell_type": "code",
   "execution_count": null,
   "id": "e5520b65-aaa9-42ce-b135-4b76cd7fe7f5",
   "metadata": {},
   "outputs": [],
   "source": [
    "Class:\n",
    "A class is a blueprint or template for creating objects. It defines a set of attributes (data) and methods (functions) that the created objects will have. A class encapsulates data for the object and methods to manipulate that data. It is a way to create user-defined data structures.\n",
    "\n",
    "Object:\n",
    "An object is an instance of a class. It is a concrete entity based on the class, which holds actual data and can perform operations defined by the class's methods. Each object has its own unique set of data, even though it shares the structure and behavior defined by the class."
   ]
  },
  {
   "cell_type": "code",
   "execution_count": null,
   "id": "542fc00a-a3e2-46ba-8338-8923859b84fd",
   "metadata": {},
   "outputs": [],
   "source": [
    "Q2. Name the four pillars of OOPs.\n"
   ]
  },
  {
   "cell_type": "code",
   "execution_count": null,
   "id": "34df7862-79ac-4d21-9c8b-6b9ab007b5a9",
   "metadata": {},
   "outputs": [],
   "source": [
    "The four pillars of Object-Oriented Programming (OOP) are:\n",
    "\n",
    "Encapsulation:\n",
    "\n",
    "Encapsulation is the mechanism of wrapping the data (variables) and the code (methods) that operates on the data into a single unit known as an object. It helps to protect the data from outside interference and misuse. Encapsulation provides a way to restrict access to certain components and helps in achieving data hiding.\n",
    "Abstraction:\n",
    "\n",
    "Abstraction is the concept of hiding the complex implementation details and showing only the necessary features of an object. It allows the programmer to focus on what the object does instead of how it does it. Abstraction can be achieved using abstract classes and interfaces in languages that support them.\n",
    "Inheritance:\n",
    "\n",
    "Inheritance is a mechanism by which one class (child or subclass) inherits the properties and behaviors (methods) of another class (parent or superclass). It promotes code reusability and establishes a natural hierarchy between classes. Inheritance allows the subclass to inherit attributes and methods from the superclass, and it can also override or extend the functionalities.\n",
    "Polymorphism:\n",
    "\n",
    "Polymorphism is the ability of different objects to respond to the same message (method call) in different ways. It allows one interface to be used for a general class of actions. The two main types of polymorphism are:\n",
    "Compile-time polymorphism (or static polymorphism): Achieved through method overloading and operator overloading.\n",
    "Run-time polymorphism (or dynamic polymorphism): Achieved through method overriding, where a subclass provides a specific implementation of a method that is already defined in its superclass.\n",
    "These four pillars are fundamental concepts that form the foundation of object-oriented programming and help in building robust, maintainable, and scalable software."
   ]
  },
  {
   "cell_type": "code",
   "execution_count": null,
   "id": "014306ed-3747-4d9f-ad27-3b4395326ac6",
   "metadata": {},
   "outputs": [],
   "source": [
    "Q3. Explain why the __init__() function is used. Give a suitable example."
   ]
  },
  {
   "cell_type": "code",
   "execution_count": null,
   "id": "824eb457-a854-4f26-a888-2a7ae12af9b3",
   "metadata": {},
   "outputs": [],
   "source": [
    "__init__ is used taking input from users "
   ]
  },
  {
   "cell_type": "code",
   "execution_count": 18,
   "id": "65439847-3c48-4223-975f-e15d1c351c12",
   "metadata": {},
   "outputs": [],
   "source": [
    "class pwskills:\n",
    "    def __init__(self,car_name):\n",
    "        self.car_name\n",
    "    def car_details(self):\n",
    "        return self.car_name"
   ]
  },
  {
   "cell_type": "code",
   "execution_count": null,
   "id": "ee5e233c-7861-4af3-8e2b-05f5783fe7db",
   "metadata": {},
   "outputs": [],
   "source": [
    "Q4. Why self is used in OOPs?\n"
   ]
  },
  {
   "cell_type": "code",
   "execution_count": null,
   "id": "92fc4e22-459e-4f1c-b124-6f1c7b2cec38",
   "metadata": {},
   "outputs": [],
   "source": [
    "self in used in OOP's because its binds the class to the functions"
   ]
  },
  {
   "cell_type": "code",
   "execution_count": null,
   "id": "04908514-859b-4596-8821-0b0e9872c581",
   "metadata": {},
   "outputs": [],
   "source": [
    "Q5. What is inheritance? Give an example for each type of inheritance."
   ]
  },
  {
   "cell_type": "code",
   "execution_count": null,
   "id": "2864c160-2ece-48e3-b172-7a04ad77b3ac",
   "metadata": {},
   "outputs": [],
   "source": [
    "inheritance is a biological terms, it's means that changing habits "
   ]
  },
  {
   "cell_type": "code",
   "execution_count": 4,
   "id": "09254d1b-cfde-464c-b350-44f0340d5ec1",
   "metadata": {},
   "outputs": [],
   "source": [
    "class data:\n",
    "    def DSM(self):\n",
    "        return 'this is data science master class'\n",
    "class web(data):\n",
    "    def webdeve(self):\n",
    "        return 'this web dev class'\n",
    "class SWE(web):\n",
    "    def soft(self):\n",
    "        return 'this is software class'"
   ]
  },
  {
   "cell_type": "code",
   "execution_count": 5,
   "id": "823113e4-ac06-4dfa-862f-d3783c4264a9",
   "metadata": {},
   "outputs": [],
   "source": [
    "sarisht = data()"
   ]
  },
  {
   "cell_type": "code",
   "execution_count": 7,
   "id": "5428faf1-ad35-4073-8de3-9e429e16eb71",
   "metadata": {},
   "outputs": [
    {
     "data": {
      "text/plain": [
       "'this is data science master class'"
      ]
     },
     "execution_count": 7,
     "metadata": {},
     "output_type": "execute_result"
    }
   ],
   "source": [
    "sarisht.DSM()"
   ]
  },
  {
   "cell_type": "code",
   "execution_count": 8,
   "id": "52538567-97af-46ab-8601-790e78cc0c81",
   "metadata": {},
   "outputs": [],
   "source": [
    "shreshth = SWE()"
   ]
  },
  {
   "cell_type": "code",
   "execution_count": 16,
   "id": "4510eafa-f671-4788-83bd-3f1a628ac46f",
   "metadata": {},
   "outputs": [
    {
     "data": {
      "text/plain": [
       "'this is software class'"
      ]
     },
     "execution_count": 16,
     "metadata": {},
     "output_type": "execute_result"
    }
   ],
   "source": [
    "shreshth.soft()"
   ]
  },
  {
   "cell_type": "code",
   "execution_count": 17,
   "id": "49bfa67b-7e05-405d-9e10-a12be8c124b7",
   "metadata": {},
   "outputs": [
    {
     "data": {
      "text/plain": [
       "'this is data science master class'"
      ]
     },
     "execution_count": 17,
     "metadata": {},
     "output_type": "execute_result"
    }
   ],
   "source": [
    "shreshth.DSM()"
   ]
  },
  {
   "cell_type": "code",
   "execution_count": null,
   "id": "c07a3892-cae4-4176-83eb-c74d2ab79e31",
   "metadata": {},
   "outputs": [],
   "source": []
  }
 ],
 "metadata": {
  "kernelspec": {
   "display_name": "Python 3 (ipykernel)",
   "language": "python",
   "name": "python3"
  },
  "language_info": {
   "codemirror_mode": {
    "name": "ipython",
    "version": 3
   },
   "file_extension": ".py",
   "mimetype": "text/x-python",
   "name": "python",
   "nbconvert_exporter": "python",
   "pygments_lexer": "ipython3",
   "version": "3.11.5"
  }
 },
 "nbformat": 4,
 "nbformat_minor": 5
}
