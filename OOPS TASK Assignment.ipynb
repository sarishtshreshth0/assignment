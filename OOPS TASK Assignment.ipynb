{
 "cells": [
  {
   "cell_type": "markdown",
   "id": "03ab2538-7143-4e50-a4ea-4757290a2cce",
   "metadata": {},
   "source": [
    "Q1, Create a vehicle class with an init method having instance variables as name_of_vehicle, max_speed\n",
    "and average_of_vehicle."
   ]
  },
  {
   "cell_type": "code",
   "execution_count": 1,
   "id": "91060279-e53b-480a-83d0-56193e24e5e1",
   "metadata": {},
   "outputs": [],
   "source": [
    "class vehicle:\n",
    "    def __init__(self, name_of_vehicile,max_speed , average_of_vechile):\n",
    "        self.name_of_vehicile = name_of_vehicile\n",
    "        self.max_speed = max_speed\n",
    "        self.average_of_vechile = average_of_vechile\n",
    "    def car_Details(self):\n",
    "        return self.name_of_vehicile , self.max_speed, self.average_of_vechile"
   ]
  },
  {
   "cell_type": "code",
   "execution_count": 4,
   "id": "fd912f83-9c29-4c77-b1a8-d9ed9f40a51d",
   "metadata": {},
   "outputs": [],
   "source": [
    "car1 = vehicle('mercedes',200,12)"
   ]
  },
  {
   "cell_type": "code",
   "execution_count": 6,
   "id": "e8e903ae-85e0-4f9d-a1cb-eac581f012ca",
   "metadata": {},
   "outputs": [
    {
     "data": {
      "text/plain": [
       "('mercedes', 200, 12)"
      ]
     },
     "execution_count": 6,
     "metadata": {},
     "output_type": "execute_result"
    }
   ],
   "source": [
    "car1.car_Details()"
   ]
  },
  {
   "cell_type": "markdown",
   "id": "203d33d1-1acc-41b8-b1f4-0d5790cfd075",
   "metadata": {},
   "source": [
    "Q2. Create a child class car from the vehicle class created in Que 1, which will inherit the vehicle class.\n",
    "Create a method named seating_capacity which takes capacity as an argument and returns the name of\n",
    "the vehicle and its seating capacity."
   ]
  },
  {
   "cell_type": "code",
   "execution_count": 9,
   "id": "6a54b22d-7fb1-4d63-bdca-c71da1ab7a79",
   "metadata": {},
   "outputs": [],
   "source": [
    "class vehicle:\n",
    "    def __init__(self, name_of_vehicile,max_speed , average_of_vechile):\n",
    "        self.name_of_vehicile = name_of_vehicile\n",
    "        self.max_speed = max_speed\n",
    "        self.average_of_vechile = average_of_vechile\n",
    "    def car_Details(self):\n",
    "        return self.name_of_vehicile , self.max_speed, self.average_of_vechile\n",
    "    def car(self, seating_capacity):\n",
    "        self.seating_capacity = seating_capacity\n",
    "        return self.name_of_vehicile,self.seating_capacity "
   ]
  },
  {
   "cell_type": "code",
   "execution_count": 11,
   "id": "aadb57dc-c145-430f-9b6d-54b3f67acecb",
   "metadata": {},
   "outputs": [],
   "source": [
    "car1 = vehicle('BMW',220,8)"
   ]
  },
  {
   "cell_type": "code",
   "execution_count": 12,
   "id": "70ab5499-3e24-4dcc-88ef-94e15b377d1d",
   "metadata": {},
   "outputs": [
    {
     "data": {
      "text/plain": [
       "('BMW', 6)"
      ]
     },
     "execution_count": 12,
     "metadata": {},
     "output_type": "execute_result"
    }
   ],
   "source": [
    "car1.car(6)"
   ]
  },
  {
   "cell_type": "markdown",
   "id": "80ed46df-1f23-46a3-a963-50d10034bc55",
   "metadata": {},
   "source": [
    "Q3. What is multiple inheritance? Write a python code to demonstrate multiple inheritance.\n"
   ]
  },
  {
   "cell_type": "code",
   "execution_count": 13,
   "id": "fa020aed-88e7-4243-ab25-a97dc759d264",
   "metadata": {},
   "outputs": [],
   "source": [
    "class DSM:\n",
    "    def data_science_master(self):\n",
    "        return 'this is data science master class'\n",
    "class WEB:\n",
    "    def web_developement(self):\n",
    "        return 'this is web developement class'\n",
    "class SWE(WEB,DSM):\n",
    "    def Software_engineer(self):\n",
    "        return 'this is software engineer class'"
   ]
  },
  {
   "cell_type": "code",
   "execution_count": 14,
   "id": "35be8f58-a382-42d9-8e9a-d29281096a8a",
   "metadata": {},
   "outputs": [],
   "source": [
    "sarisht = SWE()"
   ]
  },
  {
   "cell_type": "code",
   "execution_count": 17,
   "id": "957a806f-08ae-4d4f-a1a3-49df4de860ec",
   "metadata": {},
   "outputs": [
    {
     "data": {
      "text/plain": [
       "'this is software engineer class'"
      ]
     },
     "execution_count": 17,
     "metadata": {},
     "output_type": "execute_result"
    }
   ],
   "source": [
    "sarisht.Software_engineer()"
   ]
  },
  {
   "cell_type": "code",
   "execution_count": 18,
   "id": "1eefa838-a821-4f33-91ed-6ccac439a036",
   "metadata": {},
   "outputs": [
    {
     "data": {
      "text/plain": [
       "'this is web developement class'"
      ]
     },
     "execution_count": 18,
     "metadata": {},
     "output_type": "execute_result"
    }
   ],
   "source": [
    "sarisht.web_developement()"
   ]
  },
  {
   "cell_type": "markdown",
   "id": "6b2955a1-9f87-4107-bb9b-0d5db9972e84",
   "metadata": {},
   "source": [
    "Q4. What are getter and setter in python? Create a class and create a getter and a setter method in this\n",
    "class.\n"
   ]
  },
  {
   "cell_type": "code",
   "execution_count": 73,
   "id": "853bcdc8-9cb2-4d44-b124-7a20bf8d87f9",
   "metadata": {},
   "outputs": [],
   "source": [
    "class course_details:\n",
    "    def __init__(self, price):\n",
    "        self.price = price\n",
    "    @property\n",
    "    def course_price(self):\n",
    "        return self.price\n",
    "    @course_price.setter\n",
    "    def set_course_price(self, price):\n",
    "        if price > 4500:\n",
    "            self.price = price\n",
    "        else:\n",
    "            return self.price"
   ]
  },
  {
   "cell_type": "code",
   "execution_count": 74,
   "id": "8b3d1f8e-dbd8-49a3-99e6-245d8b7b2e01",
   "metadata": {},
   "outputs": [],
   "source": [
    "DSM = course_details(4500)"
   ]
  },
  {
   "cell_type": "code",
   "execution_count": 82,
   "id": "2b848925-c9c8-4aae-9477-cb3dca19f8fd",
   "metadata": {},
   "outputs": [],
   "source": [
    "DSM.set_course_price = 6000"
   ]
  },
  {
   "cell_type": "code",
   "execution_count": 83,
   "id": "ebc2ba08-e26c-4394-910f-5d5d8c7e4597",
   "metadata": {},
   "outputs": [
    {
     "data": {
      "text/plain": [
       "6000"
      ]
     },
     "execution_count": 83,
     "metadata": {},
     "output_type": "execute_result"
    }
   ],
   "source": [
    "DSM.course_price"
   ]
  },
  {
   "cell_type": "markdown",
   "id": "6c502fdb-6c6d-4376-bccb-4aee0c72b4c9",
   "metadata": {},
   "source": [
    "Q5.What is method overriding in python? Write a python code to demonstrate method overriding."
   ]
  },
  {
   "cell_type": "code",
   "execution_count": null,
   "id": "d04cd696-fe2b-466c-914e-731944ea2401",
   "metadata": {},
   "outputs": [],
   "source": []
  }
 ],
 "metadata": {
  "kernelspec": {
   "display_name": "Python 3 (ipykernel)",
   "language": "python",
   "name": "python3"
  },
  "language_info": {
   "codemirror_mode": {
    "name": "ipython",
    "version": 3
   },
   "file_extension": ".py",
   "mimetype": "text/x-python",
   "name": "python",
   "nbconvert_exporter": "python",
   "pygments_lexer": "ipython3",
   "version": "3.11.5"
  }
 },
 "nbformat": 4,
 "nbformat_minor": 5
}
