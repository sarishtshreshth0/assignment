{
 "cells": [
  {
   "cell_type": "code",
   "execution_count": null,
   "id": "07deb84c-cdcd-4061-9134-865b4f7e9f27",
   "metadata": {},
   "outputs": [],
   "source": [
    " Q1. Describe the decision tree classifier algorithm and how it works to make predictions.\n",
    " "
   ]
  },
  {
   "cell_type": "code",
   "execution_count": null,
   "id": "1a4d9113-f4db-43db-9851-17b3c3420258",
   "metadata": {},
   "outputs": [],
   "source": [
    "we select that features from where we get more information about data , for this we use information gain techniques , make sure after this we sort the data\n",
    "and apply post - pruning and pre - pruning"
   ]
  },
  {
   "cell_type": "code",
   "execution_count": null,
   "id": "cc2b3425-2bf7-49e7-8f23-4b067d6e77d1",
   "metadata": {},
   "outputs": [],
   "source": [
    "Q2. Provide a step-by-step explanation of the mathematical intuition behind decision tree classification.\n"
   ]
  },
  {
   "cell_type": "code",
   "execution_count": null,
   "id": "cdf49d7e-83ca-4de1-9f33-aa96bf06f6e7",
   "metadata": {},
   "outputs": [],
   "source": [
    "out of n features we select a features split until root node achieved (using the information date to find which split is best to split the data)\n",
    "if we got the pure data then we stop the spliting , we always got with impure data points "
   ]
  },
  {
   "cell_type": "code",
   "execution_count": null,
   "id": "6f24df2e-0c46-4d31-a9e6-ae99854a1b6f",
   "metadata": {},
   "outputs": [],
   "source": [
    " Q3. Explain how a decision tree classifier can be used to solve a binary classification problem.\n"
   ]
  },
  {
   "cell_type": "code",
   "execution_count": 4,
   "id": "6939947e-14d9-4c05-b4a9-926595d6a566",
   "metadata": {},
   "outputs": [
    {
     "ename": "SyntaxError",
     "evalue": "invalid syntax (722007288.py, line 1)",
     "output_type": "error",
     "traceback": [
      "\u001b[1;36m  Cell \u001b[1;32mIn[4], line 1\u001b[1;36m\u001b[0m\n\u001b[1;33m    In decision tree calssifier first we sort the data points in asecending order then pick datapoints one by one and split it if x> other_data_points\u001b[0m\n\u001b[1;37m       ^\u001b[0m\n\u001b[1;31mSyntaxError\u001b[0m\u001b[1;31m:\u001b[0m invalid syntax\n"
     ]
    }
   ],
   "source": [
    "In decision tree calssifier first we sort the data points in asecending order then pick datapoints one by one and split it if x> other_data_points \n",
    "in yes and no desicion we also use the technqiues like post pruning and pre pruning"
   ]
  },
  {
   "cell_type": "code",
   "execution_count": null,
   "id": "a3924304-cac3-4cd1-ac43-0d32eb77c70c",
   "metadata": {},
   "outputs": [],
   "source": [
    " Q4. Discuss the geometric intuition behind decision tree classification and how it can be used to make \n",
    "predictions.\n"
   ]
  },
  {
   "cell_type": "code",
   "execution_count": null,
   "id": "a4d098ea-8f94-44b0-a828-8d67d32b3413",
   "metadata": {},
   "outputs": [],
   "source": [
    "we split the data un"
   ]
  },
  {
   "cell_type": "code",
   "execution_count": null,
   "id": "a83cad63-ea25-48d4-a85c-6fb3c9acc7ae",
   "metadata": {},
   "outputs": [],
   "source": [
    " Q5. Define the confusion matrix and describe how it can be used to evaluate the performance of a \n",
    "classification model.\n",
    " "
   ]
  },
  {
   "cell_type": "code",
   "execution_count": null,
   "id": "bf8b397d-4bb0-4b40-bcef-e978fd7b2657",
   "metadata": {},
   "outputs": [],
   "source": [
    "In confusion matrix we create n*n matrix where we divide cells on predicted and actual value when predicted value is equal to actual value this is the case if TruePositive\n",
    "like that we found True values"
   ]
  },
  {
   "cell_type": "code",
   "execution_count": null,
   "id": "205d2a35-f689-480a-9bc2-e403909ad57c",
   "metadata": {},
   "outputs": [],
   "source": [
    "Q6. Provide an example of a confusion matrix and explain how precision, recall, and F1 score can be \n",
    "calculated from it.\n"
   ]
  },
  {
   "cell_type": "code",
   "execution_count": 3,
   "id": "2b495788-afd5-40b0-b9b6-f171ae8f14ce",
   "metadata": {},
   "outputs": [
    {
     "ename": "SyntaxError",
     "evalue": "invalid syntax (4221415811.py, line 1)",
     "output_type": "error",
     "traceback": [
      "\u001b[1;36m  Cell \u001b[1;32mIn[3], line 1\u001b[1;36m\u001b[0m\n\u001b[1;33m    F1 Score is calculated as F1 = (1 + B**2)*((precison * recall)/(precision + recall)) \"when precision is more important than Recall\"\u001b[0m\n\u001b[1;37m       ^\u001b[0m\n\u001b[1;31mSyntaxError\u001b[0m\u001b[1;31m:\u001b[0m invalid syntax\n"
     ]
    }
   ],
   "source": [
    "F1 Score is calculated as F1 = (1 + B**2)*((precison * recall)/(precision + recall)) \"when precision is more important than Recall\"\n",
    "when we have to reduce the FP we use precision \n",
    "when we have to reduce the FN we use recall"
   ]
  },
  {
   "cell_type": "code",
   "execution_count": null,
   "id": "1f8fb38c-32ab-4d8f-b1eb-de5c193458f8",
   "metadata": {},
   "outputs": [],
   "source": [
    "Q7. Discuss the importance of choosing an appropriate evaluation metric for a classification problem and \n",
    "explain how this can be done.\n"
   ]
  },
  {
   "cell_type": "code",
   "execution_count": null,
   "id": "4606abb6-eb3d-4528-a409-cdfe52d43088",
   "metadata": {},
   "outputs": [],
   "source": [
    "for multi class problem we use multinomial and ovr for solving multi class problem "
   ]
  },
  {
   "cell_type": "code",
   "execution_count": null,
   "id": "e5dff2d5-7686-470b-ac38-969754f320a0",
   "metadata": {},
   "outputs": [],
   "source": [
    "Q8. Provide an example of a classification problem where precision is the most important metric, and \n",
    "explain why.\n"
   ]
  },
  {
   "cell_type": "code",
   "execution_count": 1,
   "id": "9ff837f7-6909-4cab-9087-ed19c4286009",
   "metadata": {},
   "outputs": [
    {
     "ename": "SyntaxError",
     "evalue": "invalid syntax (1697219240.py, line 1)",
     "output_type": "error",
     "traceback": [
      "\u001b[1;36m  Cell \u001b[1;32mIn[1], line 1\u001b[1;36m\u001b[0m\n\u001b[1;33m    In mail spam detection model precision metrics plays a vital role because we need to minimize the False Postive (FP)\u001b[0m\n\u001b[1;37m       ^\u001b[0m\n\u001b[1;31mSyntaxError\u001b[0m\u001b[1;31m:\u001b[0m invalid syntax\n"
     ]
    }
   ],
   "source": [
    "In mail spam detection model precision metrics plays a vital role because we need to minimize the False Positive (FP) \n",
    "(when mail is not a spam and our model detect this is as spam) this is False positive case"
   ]
  },
  {
   "cell_type": "code",
   "execution_count": null,
   "id": "69093d0a-f9a9-451b-a4eb-a907cb2ee770",
   "metadata": {},
   "outputs": [],
   "source": [
    "Q9. Provide an example of a classification problem where recall is the most important metric, and explain \n",
    "why"
   ]
  },
  {
   "cell_type": "code",
   "execution_count": 2,
   "id": "7b64f31a-e09c-4ffc-969b-79ccffa2d80f",
   "metadata": {},
   "outputs": [
    {
     "ename": "SyntaxError",
     "evalue": "invalid syntax (988784743.py, line 1)",
     "output_type": "error",
     "traceback": [
      "\u001b[1;36m  Cell \u001b[1;32mIn[2], line 1\u001b[1;36m\u001b[0m\n\u001b[1;33m    In diabetes classification problem recall metrics play a vital role because we need to minimze the False Negative (FN)\u001b[0m\n\u001b[1;37m       ^\u001b[0m\n\u001b[1;31mSyntaxError\u001b[0m\u001b[1;31m:\u001b[0m invalid syntax\n"
     ]
    }
   ],
   "source": [
    "In diabetes classification problem recall metrics play a vital role because we need to minimze the False Negative (FN)\n",
    "when person is diabtic and our model predict as a non- diabtic then in this case we try to reduce False Negative Cases"
   ]
  },
  {
   "cell_type": "code",
   "execution_count": null,
   "id": "ee4421e4-2138-4de5-9adc-9794e47a855c",
   "metadata": {},
   "outputs": [],
   "source": []
  }
 ],
 "metadata": {
  "kernelspec": {
   "display_name": "Python 3 (ipykernel)",
   "language": "python",
   "name": "python3"
  },
  "language_info": {
   "codemirror_mode": {
    "name": "ipython",
    "version": 3
   },
   "file_extension": ".py",
   "mimetype": "text/x-python",
   "name": "python",
   "nbconvert_exporter": "python",
   "pygments_lexer": "ipython3",
   "version": "3.11.5"
  }
 },
 "nbformat": 4,
 "nbformat_minor": 5
}
