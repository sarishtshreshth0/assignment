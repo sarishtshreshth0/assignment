{
 "cells": [
  {
   "cell_type": "markdown",
   "id": "44d0c210-a9c6-4dd8-8a63-3a36fa66a65d",
   "metadata": {},
   "source": [
    "Q1.Which keyword is used to create a function? Create a function to return a list of odd numbers in the\n",
    "range of 1 to 25."
   ]
  },
  {
   "cell_type": "code",
   "execution_count": null,
   "id": "2552d28e-55f1-48ea-b570-e8fb3601d549",
   "metadata": {},
   "outputs": [],
   "source": [
    "# def is use to create a function"
   ]
  },
  {
   "cell_type": "code",
   "execution_count": 4,
   "id": "551b163d-4379-48d4-ae7a-8edeeaa6a197",
   "metadata": {},
   "outputs": [
    {
     "name": "stdout",
     "output_type": "stream",
     "text": [
      "1\n",
      "3\n",
      "5\n",
      "7\n",
      "9\n",
      "11\n",
      "13\n",
      "15\n",
      "17\n",
      "19\n",
      "21\n",
      "23\n"
     ]
    }
   ],
   "source": [
    "for i in range(1,25):\n",
    "    if i%2 !=0:\n",
    "        print(i)"
   ]
  },
  {
   "cell_type": "markdown",
   "id": "0f12b694-5ecd-446c-8c51-bb197b8ba7c9",
   "metadata": {},
   "source": [
    "Q2. Why *args and **kwargs is used in some functions? Create a function each for *args and **kwargs\n",
    "to demonstrate their use."
   ]
  },
  {
   "cell_type": "code",
   "execution_count": 5,
   "id": "58393f56-7818-404f-8222-c62df59fe5cc",
   "metadata": {},
   "outputs": [],
   "source": [
    "# *args is used to print elements in the form of tuples and **kwargs is used to print elements in the form of dictionary"
   ]
  },
  {
   "cell_type": "code",
   "execution_count": 7,
   "id": "bf88285f-ba3b-4b82-86c9-156d82879e31",
   "metadata": {},
   "outputs": [],
   "source": [
    "def type1(*args):\n",
    "    return args"
   ]
  },
  {
   "cell_type": "code",
   "execution_count": 8,
   "id": "2bf2d43b-62f8-4aea-b628-c408615e4931",
   "metadata": {},
   "outputs": [
    {
     "data": {
      "text/plain": [
       "(5, 1, 3)"
      ]
     },
     "execution_count": 8,
     "metadata": {},
     "output_type": "execute_result"
    }
   ],
   "source": [
    "type1(5,1,3)"
   ]
  },
  {
   "cell_type": "code",
   "execution_count": 9,
   "id": "1fab8efc-6331-4559-a11c-cf2eb6bd64f9",
   "metadata": {},
   "outputs": [],
   "source": [
    "def type2(**kwargs):\n",
    "    return kwargs "
   ]
  },
  {
   "cell_type": "code",
   "execution_count": 80,
   "id": "2d495716-6e42-4b7e-bcf5-65a07414e50c",
   "metadata": {},
   "outputs": [
    {
     "data": {
      "text/plain": [
       "{'name': 'sarisht', 'surname': 'shreshth'}"
      ]
     },
     "execution_count": 80,
     "metadata": {},
     "output_type": "execute_result"
    }
   ],
   "source": [
    "type2(name=\"sarisht\",surname=\"shreshth\")"
   ]
  },
  {
   "cell_type": "markdown",
   "id": "69f70f7c-a6dd-4c3f-b663-72e08c996f10",
   "metadata": {},
   "source": [
    "Q3. What is an iterator in python? Name the method used to initialise the iterator object and the method\n",
    "used for iteration. Use these methods to print the first five elements of the given list [2, 4, 6, 8, 10, 12, 14,\n",
    "16, 18, 20]."
   ]
  },
  {
   "cell_type": "code",
   "execution_count": null,
   "id": "bd327119-2475-4e05-93e0-5c3d294a2cd2",
   "metadata": {},
   "outputs": [],
   "source": [
    "we use function to initialise the iterator ex- generator, iterator means access data on the basis of the condition"
   ]
  },
  {
   "cell_type": "raw",
   "id": "335e94a5-b351-44c1-a040-660b3116caea",
   "metadata": {},
   "source": [
    "a=[2, 4, 6, 8, 10, 12, 14,16, 18, 20]"
   ]
  },
  {
   "cell_type": "code",
   "execution_count": 65,
   "id": "8d5eaa57-8ea5-4dca-8246-9b1eb16d3dea",
   "metadata": {},
   "outputs": [
    {
     "name": "stdout",
     "output_type": "stream",
     "text": [
      "2\n",
      "4\n",
      "6\n",
      "8\n",
      "10\n"
     ]
    }
   ],
   "source": [
    "for i in a:\n",
    "    if i <12:\n",
    "        print(i)"
   ]
  },
  {
   "cell_type": "markdown",
   "id": "cbc22bf6-2613-43fd-bff7-d690d3c36646",
   "metadata": {},
   "source": [
    "Q4. What is a generator function in python? Why yield keyword is used? Give an example of a generator\n",
    "function."
   ]
  },
  {
   "cell_type": "markdown",
   "id": "d0e605f1-bbb4-4565-89ea-c6a2cc3a2326",
   "metadata": {},
   "source": [
    "generator is used to iterate function on the basis of given condition. yield means produce data on the basis of the condition without storing it"
   ]
  },
  {
   "cell_type": "markdown",
   "id": "39bb8368-13df-447b-8e2c-630be25bece1",
   "metadata": {},
   "source": [
    "Q5. Create a generator function for prime numbers less than 1000. Use the next() method to print the\n",
    "first 20 prime numbers."
   ]
  },
  {
   "cell_type": "code",
   "execution_count": 77,
   "id": "f39180d1-e1fd-41a6-b9fc-a0787dcc1ad0",
   "metadata": {},
   "outputs": [
    {
     "name": "stdout",
     "output_type": "stream",
     "text": [
      "2\n",
      "3\n",
      "5\n",
      "7\n",
      "11\n",
      "13\n",
      "17\n",
      "19\n",
      "23\n",
      "29\n",
      "31\n",
      "37\n",
      "41\n",
      "43\n",
      "47\n",
      "53\n",
      "59\n",
      "61\n",
      "67\n",
      "71\n"
     ]
    }
   ],
   "source": [
    "def generate_primes():\n",
    "    primes = []\n",
    "    for num in range(2, 1000):\n",
    "        is_prime = True\n",
    "        for divisor in primes:\n",
    "            if divisor * divisor > num:\n",
    "                break\n",
    "            if num % divisor == 0:\n",
    "                is_prime = False\n",
    "                break\n",
    "        if is_prime:\n",
    "            primes.append(num)\n",
    "            yield num\n",
    "\n",
    "# Print the first 20 prime numbers\n",
    "prime_generator = generate_primes()\n",
    "for _ in range(20):\n",
    "    prime = next(prime_generator)\n",
    "    print(prime)\n"
   ]
  },
  {
   "cell_type": "markdown",
   "id": "344eb749-c685-4c31-a5d6-e2055da3da99",
   "metadata": {},
   "source": [
    "Q6. Write a python program to print the first 10 Fibonacci numbers using a while loop."
   ]
  },
  {
   "cell_type": "code",
   "execution_count": 70,
   "id": "fcb79149-73d5-419d-b41a-11c411529880",
   "metadata": {},
   "outputs": [],
   "source": [
    "def test_fib1():\n",
    "    a,b = 0,1\n",
    "    while True:\n",
    "        yield a \n",
    "        a,b = b , a+b"
   ]
  },
  {
   "cell_type": "code",
   "execution_count": 75,
   "id": "e7fc9d60-e683-464c-8db9-461c7534263b",
   "metadata": {},
   "outputs": [],
   "source": [
    "fib = test_fib1()"
   ]
  },
  {
   "cell_type": "code",
   "execution_count": 76,
   "id": "08e9e04f-65f0-4bdd-b350-b23fb489cb9c",
   "metadata": {},
   "outputs": [
    {
     "name": "stdout",
     "output_type": "stream",
     "text": [
      "0\n",
      "1\n",
      "1\n",
      "2\n",
      "3\n",
      "5\n",
      "8\n",
      "13\n",
      "21\n",
      "34\n"
     ]
    }
   ],
   "source": [
    "for i in range(10):\n",
    "    print(next(fib))"
   ]
  },
  {
   "cell_type": "markdown",
   "id": "d9d17413-666a-42d4-9691-6412bd99401c",
   "metadata": {},
   "source": [
    "Q7. Write a List Comprehension to iterate through the given string: ‘pwskills’.\n",
    "Expected output: ['p', 'w', 's', 'k', 'i', 'l', 'l', 's']"
   ]
  },
  {
   "cell_type": "code",
   "execution_count": 62,
   "id": "3ec8eaca-8e88-4043-b83f-b194cb4b7518",
   "metadata": {},
   "outputs": [
    {
     "data": {
      "text/plain": [
       "['p', 'w', 's', 'k', 'i', 'l', 'l', 's']"
      ]
     },
     "execution_count": 62,
     "metadata": {},
     "output_type": "execute_result"
    }
   ],
   "source": [
    "list(\"pwskills\")"
   ]
  },
  {
   "cell_type": "markdown",
   "id": "33aed9ec-65f1-438c-8e7a-87641c7eb681",
   "metadata": {},
   "source": [
    "\n",
    "Q8. Write a python program to check whether a given number is Palindrome or not using a while loop."
   ]
  },
  {
   "cell_type": "code",
   "execution_count": 55,
   "id": "dfd9f4b8-a447-436b-a859-5a08ed8928e2",
   "metadata": {},
   "outputs": [],
   "source": [
    "a=[\"12345\"]"
   ]
  },
  {
   "cell_type": "code",
   "execution_count": 61,
   "id": "9d9618cf-8386-4a28-81ba-adde6348e810",
   "metadata": {},
   "outputs": [
    {
     "name": "stdout",
     "output_type": "stream",
     "text": [
      "a, is not palindrome number\n"
     ]
    }
   ],
   "source": [
    "if a[0][::-1]==a[0][::1]:\n",
    "    print(\"number is palindrome\")\n",
    "else:\n",
    "        print(\"a, is not palindrome number\")"
   ]
  },
  {
   "cell_type": "code",
   "execution_count": 59,
   "id": "43e7c4e5-e95a-4c56-99c9-2f73f9555193",
   "metadata": {},
   "outputs": [
    {
     "data": {
      "text/plain": [
       "False"
      ]
     },
     "execution_count": 59,
     "metadata": {},
     "output_type": "execute_result"
    }
   ],
   "source": [
    "a[0][::-1] == a[0][::1]"
   ]
  },
  {
   "cell_type": "code",
   "execution_count": null,
   "id": "ccf3bc8f-616b-4b2e-bc69-825f3fa57534",
   "metadata": {},
   "outputs": [],
   "source": []
  },
  {
   "cell_type": "markdown",
   "id": "50533b83-486b-464a-b77c-18027f2722a8",
   "metadata": {},
   "source": [
    "Q9. Write a code to print odd numbers from 1 to 100 using list comprehension."
   ]
  },
  {
   "cell_type": "code",
   "execution_count": 3,
   "id": "492c364d-625c-4a22-88d2-0b464af3654b",
   "metadata": {},
   "outputs": [
    {
     "name": "stdout",
     "output_type": "stream",
     "text": [
      "1\n",
      "3\n",
      "5\n",
      "7\n",
      "9\n",
      "11\n",
      "13\n",
      "15\n",
      "17\n",
      "19\n",
      "21\n",
      "23\n",
      "25\n",
      "27\n",
      "29\n",
      "31\n",
      "33\n",
      "35\n",
      "37\n",
      "39\n",
      "41\n",
      "43\n",
      "45\n",
      "47\n",
      "49\n",
      "51\n",
      "53\n",
      "55\n",
      "57\n",
      "59\n",
      "61\n",
      "63\n",
      "65\n",
      "67\n",
      "69\n",
      "71\n",
      "73\n",
      "75\n",
      "77\n",
      "79\n",
      "81\n",
      "83\n",
      "85\n",
      "87\n",
      "89\n",
      "91\n",
      "93\n",
      "95\n",
      "97\n",
      "99\n"
     ]
    }
   ],
   "source": [
    "for i in range(1,101):\n",
    "    if i%2 !=0:\n",
    "        print(i)"
   ]
  },
  {
   "cell_type": "code",
   "execution_count": null,
   "id": "e307720e-119f-4843-a1e8-f0b130476eba",
   "metadata": {},
   "outputs": [],
   "source": []
  }
 ],
 "metadata": {
  "kernelspec": {
   "display_name": "Python 3 (ipykernel)",
   "language": "python",
   "name": "python3"
  },
  "language_info": {
   "codemirror_mode": {
    "name": "ipython",
    "version": 3
   },
   "file_extension": ".py",
   "mimetype": "text/x-python",
   "name": "python",
   "nbconvert_exporter": "python",
   "pygments_lexer": "ipython3",
   "version": "3.10.8"
  }
 },
 "nbformat": 4,
 "nbformat_minor": 5
}
