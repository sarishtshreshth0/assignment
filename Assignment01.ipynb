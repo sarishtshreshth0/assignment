{
 "cells": [
  {
   "cell_type": "code",
   "execution_count": null,
   "id": "beb93068-bc2a-4bba-a075-e20215e7cf64",
   "metadata": {},
   "outputs": [],
   "source": [
    "#question 1"
   ]
  },
  {
   "cell_type": "code",
   "execution_count": 31,
   "id": "6a5e098f-2c51-4ef0-9c9e-6445ca7658c1",
   "metadata": {},
   "outputs": [],
   "source": [
    "a=\"sarisht\" #string"
   ]
  },
  {
   "cell_type": "code",
   "execution_count": 16,
   "id": "6cd36f85-26c1-4586-8a11-83ab53eebe68",
   "metadata": {},
   "outputs": [
    {
     "data": {
      "text/plain": [
       "'sarisht'"
      ]
     },
     "execution_count": 16,
     "metadata": {},
     "output_type": "execute_result"
    }
   ],
   "source": [
    "a"
   ]
  },
  {
   "cell_type": "code",
   "execution_count": 107,
   "id": "7b77bf44-7c75-4e99-89f9-56156f101f2c",
   "metadata": {},
   "outputs": [],
   "source": [
    "b=[\"sarisht\"] #list"
   ]
  },
  {
   "cell_type": "code",
   "execution_count": 13,
   "id": "acd53743-6a66-4f7c-ad2a-c86e8b5d467f",
   "metadata": {},
   "outputs": [
    {
     "data": {
      "text/plain": [
       "['sarisht']"
      ]
     },
     "execution_count": 13,
     "metadata": {},
     "output_type": "execute_result"
    }
   ],
   "source": [
    "b"
   ]
  },
  {
   "cell_type": "code",
   "execution_count": 108,
   "id": "a56da620-3bea-4fd4-a313-d8fa695d373c",
   "metadata": {},
   "outputs": [],
   "source": [
    "c=0.2 #float"
   ]
  },
  {
   "cell_type": "code",
   "execution_count": 17,
   "id": "45a5b347-fa69-4c6f-8d7e-a1a784effa01",
   "metadata": {},
   "outputs": [
    {
     "data": {
      "text/plain": [
       "'sarisht'"
      ]
     },
     "execution_count": 17,
     "metadata": {},
     "output_type": "execute_result"
    }
   ],
   "source": [
    "c"
   ]
  },
  {
   "cell_type": "code",
   "execution_count": 109,
   "id": "a7f0aa3e-7764-49ec-b731-e78fde3e55dd",
   "metadata": {},
   "outputs": [],
   "source": [
    "d=(\"sarisht\") #tuple"
   ]
  },
  {
   "cell_type": "code",
   "execution_count": 18,
   "id": "c395497b-a999-4fa0-a289-27efebd23fa6",
   "metadata": {},
   "outputs": [
    {
     "data": {
      "text/plain": [
       "0.2"
      ]
     },
     "execution_count": 18,
     "metadata": {},
     "output_type": "execute_result"
    }
   ],
   "source": [
    "d"
   ]
  },
  {
   "cell_type": "code",
   "execution_count": null,
   "id": "b794fa9b-eca9-4f95-9d66-13af0a17f879",
   "metadata": {},
   "outputs": [],
   "source": [
    "#question 2"
   ]
  },
  {
   "cell_type": "code",
   "execution_count": 104,
   "id": "a2cf6b0e-b96d-41fe-acc9-3b94179a98c6",
   "metadata": {},
   "outputs": [],
   "source": [
    "var1='' #string"
   ]
  },
  {
   "cell_type": "code",
   "execution_count": 20,
   "id": "2f7de854-7386-4515-a625-2c0ac3e691d7",
   "metadata": {},
   "outputs": [
    {
     "data": {
      "text/plain": [
       "''"
      ]
     },
     "execution_count": 20,
     "metadata": {},
     "output_type": "execute_result"
    }
   ],
   "source": [
    "var1"
   ]
  },
  {
   "cell_type": "code",
   "execution_count": 105,
   "id": "222c5728-b441-482f-a24f-580f629c1952",
   "metadata": {},
   "outputs": [],
   "source": [
    "var2 = '[ DS , ML , Python]' #string"
   ]
  },
  {
   "cell_type": "code",
   "execution_count": 30,
   "id": "f60be8cc-93a2-4099-aee6-eba2607977f9",
   "metadata": {},
   "outputs": [
    {
     "data": {
      "text/plain": [
       "'[ DS , ML , Python]'"
      ]
     },
     "execution_count": 30,
     "metadata": {},
     "output_type": "execute_result"
    }
   ],
   "source": [
    "var2"
   ]
  },
  {
   "cell_type": "code",
   "execution_count": 106,
   "id": "9a1de80a-f147-4608-a8fd-4a8054295947",
   "metadata": {},
   "outputs": [],
   "source": [
    "var3= [ 'DS' , 'ML' , 'Python' ] #;ist"
   ]
  },
  {
   "cell_type": "code",
   "execution_count": 28,
   "id": "43fb535d-3300-4bc3-ada5-04b48f206227",
   "metadata": {},
   "outputs": [
    {
     "data": {
      "text/plain": [
       "['DS', 'ML', 'Python']"
      ]
     },
     "execution_count": 28,
     "metadata": {},
     "output_type": "execute_result"
    }
   ],
   "source": [
    "var3"
   ]
  },
  {
   "cell_type": "code",
   "execution_count": 103,
   "id": "00fa5477-9b71-4930-a572-949335991f17",
   "metadata": {},
   "outputs": [],
   "source": [
    "var4 = 1. #int"
   ]
  },
  {
   "cell_type": "code",
   "execution_count": 24,
   "id": "7732ae53-e3d8-4b3f-a64d-a7c9be7ebac8",
   "metadata": {},
   "outputs": [
    {
     "data": {
      "text/plain": [
       "1.0"
      ]
     },
     "execution_count": 24,
     "metadata": {},
     "output_type": "execute_result"
    }
   ],
   "source": [
    "var4"
   ]
  },
  {
   "cell_type": "code",
   "execution_count": null,
   "id": "962a97f5-37ac-447b-badf-5a640721ff0a",
   "metadata": {},
   "outputs": [],
   "source": [
    "#question 3"
   ]
  },
  {
   "cell_type": "code",
   "execution_count": 102,
   "id": "4233287a-4d89-46fa-ac86-6f4b7657263d",
   "metadata": {},
   "outputs": [
    {
     "data": {
      "text/plain": [
       "1.3333333333333333"
      ]
     },
     "execution_count": 102,
     "metadata": {},
     "output_type": "execute_result"
    }
   ],
   "source": [
    "4/3 #for division"
   ]
  },
  {
   "cell_type": "code",
   "execution_count": 101,
   "id": "9b47e396-458a-4912-b442-49443e9495d7",
   "metadata": {},
   "outputs": [
    {
     "data": {
      "text/plain": [
       "1"
      ]
     },
     "execution_count": 101,
     "metadata": {},
     "output_type": "execute_result"
    }
   ],
   "source": [
    "4%3 #for modulus or remainder"
   ]
  },
  {
   "cell_type": "code",
   "execution_count": 99,
   "id": "1799c219-4c37-4ae2-a83e-46a6d3aa202c",
   "metadata": {},
   "outputs": [
    {
     "data": {
      "text/plain": [
       "1"
      ]
     },
     "execution_count": 99,
     "metadata": {},
     "output_type": "execute_result"
    }
   ],
   "source": [
    "4//3 "
   ]
  },
  {
   "cell_type": "code",
   "execution_count": 100,
   "id": "f098ee90-bca3-4bb7-9fd7-ad2bc252e5b5",
   "metadata": {},
   "outputs": [
    {
     "data": {
      "text/plain": [
       "64"
      ]
     },
     "execution_count": 100,
     "metadata": {},
     "output_type": "execute_result"
    }
   ],
   "source": [
    "4**3 #for 4 cube or 4^3"
   ]
  },
  {
   "cell_type": "code",
   "execution_count": 32,
   "id": "004a5021-f670-4167-a9a8-374120492344",
   "metadata": {},
   "outputs": [],
   "source": [
    "#question 4"
   ]
  },
  {
   "cell_type": "code",
   "execution_count": 112,
   "id": "eb0509c7-d2e0-4268-b182-aa99080360bd",
   "metadata": {},
   "outputs": [
    {
     "name": "stdout",
     "output_type": "stream",
     "text": [
      "<class 'str'>\n",
      "<class 'int'>\n",
      "<class 'int'>\n",
      "<class 'int'>\n",
      "<class 'int'>\n",
      "<class 'int'>\n",
      "<class 'int'>\n",
      "<class 'int'>\n",
      "<class 'bool'>\n",
      "<class 'bool'>\n",
      "<class 'complex'>\n",
      "<class 'float'>\n"
     ]
    }
   ],
   "source": [
    "l1 = [\"sarisht\",1,2,3,54,8,64,7,True, False, 5+10j,205.5]\n",
    "for i in l1:\n",
    "    print(type(i))"
   ]
  },
  {
   "cell_type": "code",
   "execution_count": null,
   "id": "ed953ccb-34e4-4613-a68a-2b85b723590e",
   "metadata": {},
   "outputs": [],
   "source": [
    "#question 5"
   ]
  },
  {
   "cell_type": "code",
   "execution_count": 41,
   "id": "0bf85fde-5d52-4351-983a-271bc94e0679",
   "metadata": {},
   "outputs": [],
   "source": [
    "#question 6"
   ]
  },
  {
   "cell_type": "code",
   "execution_count": 110,
   "id": "8cd29531-c249-4037-bd42-8e61d5e13676",
   "metadata": {},
   "outputs": [],
   "source": [
    "l2=[1,2,3,4,5,6,7,8,9,10,11,12,13,14,15,16,17,18,19,20,21,22,23,24,]"
   ]
  },
  {
   "cell_type": "code",
   "execution_count": 94,
   "id": "f1deb399-9541-4333-a361-a02c74359f07",
   "metadata": {},
   "outputs": [
    {
     "name": "stdout",
     "output_type": "stream",
     "text": [
      "3\n",
      "6\n",
      "9\n",
      "12\n",
      "15\n",
      "18\n",
      "21\n",
      "24\n"
     ]
    }
   ],
   "source": [
    "divisible_by_3=[]\n",
    "for i in l2:\n",
    "        if i%3==0:\n",
    "            print(i)\n",
    "        "
   ]
  },
  {
   "cell_type": "code",
   "execution_count": 42,
   "id": "52177ff7-ed29-4860-933f-6ba5209f580d",
   "metadata": {},
   "outputs": [],
   "source": [
    "#question 7"
   ]
  },
  {
   "cell_type": "raw",
   "id": "9ab1f547-96cd-4ea0-aeb0-2f392912ccc6",
   "metadata": {},
   "source": [
    "IN mutable we can't add or remove elements  Example - string"
   ]
  },
  {
   "cell_type": "code",
   "execution_count": 35,
   "id": "e9ab6552-9c35-4a0e-bc3e-740d8e1ba165",
   "metadata": {},
   "outputs": [],
   "source": [
    "s = \"sarisht\""
   ]
  },
  {
   "cell_type": "raw",
   "id": "6955a181-9b49-46e1-80cd-5fd97e63709d",
   "metadata": {},
   "source": [
    "IN immutable we can add or remove elements Example - list, sets "
   ]
  },
  {
   "cell_type": "code",
   "execution_count": 36,
   "id": "9f739e49-ba35-4f70-b0b3-a7ad517fa58e",
   "metadata": {},
   "outputs": [],
   "source": [
    "l=[\"sarisht,shreshth,1,5\"]"
   ]
  },
  {
   "cell_type": "code",
   "execution_count": 37,
   "id": "d79ba991-bed5-464a-ae86-e59d87fd7398",
   "metadata": {},
   "outputs": [
    {
     "data": {
      "text/plain": [
       "['sarisht,shreshth,1,5']"
      ]
     },
     "execution_count": 37,
     "metadata": {},
     "output_type": "execute_result"
    }
   ],
   "source": [
    "l"
   ]
  },
  {
   "cell_type": "code",
   "execution_count": 38,
   "id": "d6b524b9-1860-4e5e-99e3-5498acabb201",
   "metadata": {},
   "outputs": [],
   "source": [
    "l.append(\"collegewallah\")"
   ]
  },
  {
   "cell_type": "code",
   "execution_count": 39,
   "id": "c3688c9c-43ac-45d2-b6cf-2ec4ecac9f56",
   "metadata": {},
   "outputs": [
    {
     "data": {
      "text/plain": [
       "['sarisht,shreshth,1,5', 'collegewallah']"
      ]
     },
     "execution_count": 39,
     "metadata": {},
     "output_type": "execute_result"
    }
   ],
   "source": [
    "l"
   ]
  },
  {
   "cell_type": "code",
   "execution_count": null,
   "id": "8e048f66-9f2c-4a32-9242-e45a7e54eb94",
   "metadata": {},
   "outputs": [],
   "source": []
  }
 ],
 "metadata": {
  "kernelspec": {
   "display_name": "Python 3 (ipykernel)",
   "language": "python",
   "name": "python3"
  },
  "language_info": {
   "codemirror_mode": {
    "name": "ipython",
    "version": 3
   },
   "file_extension": ".py",
   "mimetype": "text/x-python",
   "name": "python",
   "nbconvert_exporter": "python",
   "pygments_lexer": "ipython3",
   "version": "3.10.8"
  }
 },
 "nbformat": 4,
 "nbformat_minor": 5
}
