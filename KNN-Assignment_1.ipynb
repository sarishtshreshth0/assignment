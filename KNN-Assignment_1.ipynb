{
 "cells": [
  {
   "cell_type": "code",
   "execution_count": null,
   "id": "8fbf65af-6736-4c28-999a-fd8394f079f4",
   "metadata": {},
   "outputs": [],
   "source": [
    "Q1. What is the KNN algorithm?\n",
    "Q2. How do you choose the value of K in KNN?\n",
    "Q3. What is the difference between KNN classifier and KNN regressor?\n",
    "Q4. How do you measure the performance of KNN?\n",
    "Q5. What is the curse of dimensionality in KNN?\n",
    "Q6. How do you handle missing values in KNN?\n",
    "Q7. Compare and contrast the performance of the KNN classifier and regressor. Which one is better for\n",
    "which type of problem?\n",
    "Q8. What are the strengths and weaknesses of the KNN algorithm for classification and regression tasks,\n",
    "and how can these be addressed?\n",
    "Q9. What is the difference between Euclidean distance and Manhattan distance in KNN?\n",
    "Q10. What is the role of feature scaling in KNN?"
   ]
  },
  {
   "cell_type": "markdown",
   "id": "b14b7f87-315e-4d37-8741-1b6c2340becf",
   "metadata": {},
   "source": [
    "What is the KNN algorithm?"
   ]
  },
  {
   "cell_type": "code",
   "execution_count": 1,
   "id": "22b576fd-51b1-44d7-a294-7568511e649c",
   "metadata": {},
   "outputs": [
    {
     "ename": "SyntaxError",
     "evalue": "invalid syntax (1505200978.py, line 1)",
     "output_type": "error",
     "traceback": [
      "\u001b[1;36m  Cell \u001b[1;32mIn[1], line 1\u001b[1;36m\u001b[0m\n\u001b[1;33m    KNN algorithm stands for K - nearest - neighbours algorithm ... and this is a supervised machine learning algorithm when a new data points comes then k - near\u001b[0m\n\u001b[1;37m        ^\u001b[0m\n\u001b[1;31mSyntaxError\u001b[0m\u001b[1;31m:\u001b[0m invalid syntax\n"
     ]
    }
   ],
   "source": [
    "KNN algorithm stands for K - nearest - neighbours algorithm ... and this is a supervised machine learning algorithm when a new data points comes then k - nearest\n",
    "neigbour got selected using distance metrics like manhanttan distance or euclidean distance\n"
   ]
  },
  {
   "cell_type": "markdown",
   "id": "8a88612c-a300-4848-ae15-3df482328a16",
   "metadata": {},
   "source": [
    "How do you choose the value of K in KNN?"
   ]
  },
  {
   "cell_type": "code",
   "execution_count": 2,
   "id": "58ee3e7b-deef-4125-a469-61199dd53bf2",
   "metadata": {},
   "outputs": [
    {
     "ename": "SyntaxError",
     "evalue": "invalid syntax (2200649494.py, line 1)",
     "output_type": "error",
     "traceback": [
      "\u001b[1;36m  Cell \u001b[1;32mIn[2], line 1\u001b[1;36m\u001b[0m\n\u001b[1;33m    in KNN algo we can choose K value by brute force technique and for fast computation we can use KD - Tree and Ball Tree because time complexity of this\u001b[0m\n\u001b[1;37m    ^\u001b[0m\n\u001b[1;31mSyntaxError\u001b[0m\u001b[1;31m:\u001b[0m invalid syntax\n"
     ]
    }
   ],
   "source": [
    "in KNN algo we can choose K value by brute force technique and for fast computation we can use KD - Tree and Ball Tree because time complexity of this\n",
    "algorithm is O(logn) which is more optimial and faster than root N and N "
   ]
  },
  {
   "cell_type": "markdown",
   "id": "350ad6f0-ab95-4600-87cf-07ce2128322f",
   "metadata": {},
   "source": [
    "What is the difference between KNN classifier and KNN regressor?"
   ]
  },
  {
   "cell_type": "code",
   "execution_count": null,
   "id": "863eedac-17d0-49c6-af10-b09338b3a3f5",
   "metadata": {},
   "outputs": [],
   "source": [
    "in KNN classifier we choose most aggregate value and in KNN regressor we use average value"
   ]
  },
  {
   "cell_type": "markdown",
   "id": "f5eab9a3-a09f-4842-917b-2ce8d7e2f5c8",
   "metadata": {},
   "source": [
    "How do you measure the performance of KNN?"
   ]
  },
  {
   "cell_type": "code",
   "execution_count": null,
   "id": "570505b7-d392-4641-87e7-9119c6f953f8",
   "metadata": {},
   "outputs": [],
   "source": [
    "Confusion matrix , precision ,recall , F1-score"
   ]
  },
  {
   "cell_type": "markdown",
   "id": "344dae8e-685a-4d3f-8214-1fcc8a40a0d9",
   "metadata": {},
   "source": [
    "What is the curse of dimensionality in KNN?"
   ]
  },
  {
   "cell_type": "code",
   "execution_count": null,
   "id": "26f1e187-8fdd-424f-a00b-e0b229e231e9",
   "metadata": {},
   "outputs": [],
   "source": [
    "in Curse of dimensionality we have mainly two options first one is features selection and features extraction(dimension - reduction)\n",
    "in features selection we select those features which are highly correlated and in dimension-reduction we reduce dimension using PCA(principal component analysis)\n"
   ]
  },
  {
   "cell_type": "markdown",
   "id": "4beba8ad-46aa-4aa2-94dd-9273eaa56abf",
   "metadata": {},
   "source": [
    "How do you handle missing values in KNN?"
   ]
  },
  {
   "cell_type": "code",
   "execution_count": null,
   "id": "beb57f7a-0eee-4e03-a32a-7c510ca99cb0",
   "metadata": {},
   "outputs": [],
   "source": [
    "we can create a simple Imputer for handle missing value if it is classification problem we can use mode value and for regression we can use median/mean"
   ]
  },
  {
   "cell_type": "markdown",
   "id": "5d77ad8f-5feb-4145-8d13-3c3d336e8796",
   "metadata": {},
   "source": [
    "Compare and contrast the performance of the KNN classifier and regressor. Which one is better for\n",
    "which type of problem?"
   ]
  },
  {
   "cell_type": "code",
   "execution_count": null,
   "id": "763b369f-6b34-4262-ae2c-94c9a256c884",
   "metadata": {},
   "outputs": [],
   "source": [
    "KNN Classifier better hai jab tumhe categories/classes predict karni ho.\n",
    "\n",
    "KNN Regressor better hai jab tumhe continuous numeric values predict karni ho."
   ]
  },
  {
   "cell_type": "markdown",
   "id": "a1f427a6-37f5-4461-8705-7d28f9c929a9",
   "metadata": {},
   "source": [
    "What are the strengths and weaknesses of the KNN algorithm for classification and regression tasks,\n",
    "and how can these be addressed?"
   ]
  },
  {
   "cell_type": "code",
   "execution_count": null,
   "id": "ad138a0f-3e4d-4343-9d89-f62fa0874b66",
   "metadata": {},
   "outputs": [],
   "source": [
    " Strengths: Simple, flexible, non-parametric, works for both tasks.\n",
    " Weaknesses: Slow for large datasets, suffers in high dimensions, sensitive to noise & scaling.\n",
    " Fixes: Feature scaling, dimensionality reduction, data cleaning, KD/Ball Tree, weighted KNN, cross-validation for K."
   ]
  },
  {
   "cell_type": "markdown",
   "id": "9385af16-8501-4908-ae58-e6b5243060a6",
   "metadata": {},
   "source": [
    "What is the difference between Euclidean distance and Manhattan distance in KNN?"
   ]
  },
  {
   "cell_type": "code",
   "execution_count": null,
   "id": "c3517343-a682-47cc-a20e-931edb2f231e",
   "metadata": {},
   "outputs": [],
   "source": [
    "Euclidean = direct line distance\n",
    "\n",
    "Manhattan = road wali distance (jaise galiyon me ghoom ke jana)"
   ]
  },
  {
   "cell_type": "markdown",
   "id": "e22d2bda-051c-42e8-890b-bbc4e3545a9d",
   "metadata": {},
   "source": [
    "What is the role of feature scaling in KNN?"
   ]
  },
  {
   "cell_type": "code",
   "execution_count": 3,
   "id": "7d2ef7a9-0652-4981-8c04-9f29827a289a",
   "metadata": {},
   "outputs": [
    {
     "ename": "SyntaxError",
     "evalue": "invalid syntax (1675898831.py, line 1)",
     "output_type": "error",
     "traceback": [
      "\u001b[1;36m  Cell \u001b[1;32mIn[3], line 1\u001b[1;36m\u001b[0m\n\u001b[1;33m    Feature scaling ensures that no single feature dominates the distance calculation in KNN.\u001b[0m\n\u001b[1;37m            ^\u001b[0m\n\u001b[1;31mSyntaxError\u001b[0m\u001b[1;31m:\u001b[0m invalid syntax\n"
     ]
    }
   ],
   "source": [
    "Feature scaling ensures that no single feature dominates the distance calculation in KNN.\n",
    "Bina scaling ke KNN ka result misleading ho sakta hai."
   ]
  },
  {
   "cell_type": "code",
   "execution_count": null,
   "id": "9d282d71-211f-49ca-84a2-df5b7b0676ed",
   "metadata": {},
   "outputs": [],
   "source": []
  }
 ],
 "metadata": {
  "kernelspec": {
   "display_name": "Python 3 (ipykernel)",
   "language": "python",
   "name": "python3"
  },
  "language_info": {
   "codemirror_mode": {
    "name": "ipython",
    "version": 3
   },
   "file_extension": ".py",
   "mimetype": "text/x-python",
   "name": "python",
   "nbconvert_exporter": "python",
   "pygments_lexer": "ipython3",
   "version": "3.11.5"
  }
 },
 "nbformat": 4,
 "nbformat_minor": 5
}
