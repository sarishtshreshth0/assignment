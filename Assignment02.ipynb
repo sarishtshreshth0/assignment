{
 "cells": [
  {
   "cell_type": "markdown",
   "id": "2a705dcb-4361-487a-bd6d-8fba40b4758b",
   "metadata": {},
   "source": [
    "Q1. How do you comment code in Python? What are the different types of comments?"
   ]
  },
  {
   "cell_type": "markdown",
   "id": "a885370b-c96e-42d2-9516-4b300ecedda2",
   "metadata": {},
   "source": [
    "if we want to comment code in python we use Hashtag or triple quotes"
   ]
  },
  {
   "cell_type": "markdown",
   "id": "10dc9112-28dc-4d00-b4e6-d4e19c9ecb83",
   "metadata": {},
   "source": [
    "Q2. What are variables in Python? How do you declare and assign values to variables?"
   ]
  },
  {
   "cell_type": "markdown",
   "id": "2ed2782b-3e3d-479a-a5b1-2932cbc881db",
   "metadata": {},
   "source": [
    "There are many variables in python, example list, tuples, sets, dictionary"
   ]
  },
  {
   "cell_type": "markdown",
   "id": "4a7fb90a-cd84-4594-a3d6-6ef5c127298a",
   "metadata": {},
   "source": [
    "Q3. How do you convert one data type to another in Python?"
   ]
  },
  {
   "cell_type": "code",
   "execution_count": 10,
   "id": "9b97dc97-0b43-471f-9f7d-5bc1082f6a22",
   "metadata": {},
   "outputs": [
    {
     "data": {
      "text/plain": [
       "int"
      ]
     },
     "execution_count": 10,
     "metadata": {},
     "output_type": "execute_result"
    }
   ],
   "source": [
    "s=546\n",
    "type(s)"
   ]
  },
  {
   "cell_type": "code",
   "execution_count": 12,
   "id": "6203a5db-8560-4d32-9894-862d1c4db3e6",
   "metadata": {},
   "outputs": [
    {
     "data": {
      "text/plain": [
       "str"
      ]
     },
     "execution_count": 12,
     "metadata": {},
     "output_type": "execute_result"
    }
   ],
   "source": [
    "s=\"546\"\n",
    "type(s)"
   ]
  },
  {
   "cell_type": "markdown",
   "id": "479bf8bd-8d40-47ed-9f1a-c7b809409bfd",
   "metadata": {},
   "source": [
    "Q4. How do you write and execute a Python script from the command line?"
   ]
  },
  {
   "cell_type": "markdown",
   "id": "2e368db1-03bc-49fc-a5f1-e8000aaaa07c",
   "metadata": {},
   "source": [
    "You need to open a command line and type the word python followed by the path to your script file like this: python first_script.py Hello World! "
   ]
  },
  {
   "cell_type": "markdown",
   "id": "ea32f734-c65b-4dab-a92c-de6e233aaff3",
   "metadata": {},
   "source": [
    "Q5. Given a list my_list = [1, 2, 3, 4, 5], write the code to slice the list and obtain the sub-list [2, 3]."
   ]
  },
  {
   "cell_type": "code",
   "execution_count": 7,
   "id": "10d53208-063e-41ed-b64f-7f2162e0e789",
   "metadata": {},
   "outputs": [
    {
     "data": {
      "text/plain": [
       "[2, 3]"
      ]
     },
     "execution_count": 7,
     "metadata": {},
     "output_type": "execute_result"
    }
   ],
   "source": [
    "my_list = [1, 2, 3, 4, 5]\n",
    "\n",
    "my_list[1:3:]"
   ]
  },
  {
   "cell_type": "markdown",
   "id": "adb8287e-bbe2-408d-8587-03c34e8481af",
   "metadata": {},
   "source": [
    "Q6. What is a complex number in mathematics, and how is it represented in Python?"
   ]
  },
  {
   "cell_type": "markdown",
   "id": "b535aa66-b318-4482-a2d3-f4a8fee09175",
   "metadata": {},
   "source": [
    "In mathematics complex number is a imaginary number denotes as iota(i), but in python imaginary number denoted as \"j\""
   ]
  },
  {
   "cell_type": "markdown",
   "id": "1b0876c1-4637-4141-8833-e13f8d935636",
   "metadata": {},
   "source": [
    "Q7. What is the correct way to declare a variable named age and assign the value 25 to it?"
   ]
  },
  {
   "cell_type": "code",
   "execution_count": 5,
   "id": "14073155-bbe7-4e55-a5fb-ecefbff20583",
   "metadata": {},
   "outputs": [],
   "source": [
    "a=25"
   ]
  },
  {
   "cell_type": "markdown",
   "id": "c491737a-550d-4fef-945e-c4963f027588",
   "metadata": {},
   "source": [
    "Q8. Declare a variable named price and assign the value 9.99 to it. What data type does this variable\n",
    "belong to?"
   ]
  },
  {
   "cell_type": "code",
   "execution_count": 19,
   "id": "ea914ae6-56a8-492e-979f-64902cb2aa2c",
   "metadata": {},
   "outputs": [
    {
     "data": {
      "text/plain": [
       "float"
      ]
     },
     "execution_count": 19,
     "metadata": {},
     "output_type": "execute_result"
    }
   ],
   "source": [
    "price = 9.99\n",
    "type(price)"
   ]
  },
  {
   "cell_type": "markdown",
   "id": "7fc9aa16-c44a-4ead-87d6-586e1e18e67e",
   "metadata": {},
   "source": [
    "Q9. Create a variable named name and assign your full name to it as a string. How would you print the\n",
    "value of this variable?"
   ]
  },
  {
   "cell_type": "code",
   "execution_count": 21,
   "id": "634e0014-9404-415d-a869-251889036fda",
   "metadata": {},
   "outputs": [
    {
     "data": {
      "text/plain": [
       "'sarisht shreshth'"
      ]
     },
     "execution_count": 21,
     "metadata": {},
     "output_type": "execute_result"
    }
   ],
   "source": [
    "name = \"sarisht shreshth\"\n",
    "name"
   ]
  },
  {
   "cell_type": "markdown",
   "id": "e9bdeed1-3b17-4fc2-ba70-ccc2b846dcfe",
   "metadata": {},
   "source": [
    "Q10. Given the string \"Hello, World!\", extract the substring \"World\"."
   ]
  },
  {
   "cell_type": "code",
   "execution_count": 3,
   "id": "e91d8947-7d0e-491d-9e40-5668e6197ed5",
   "metadata": {},
   "outputs": [
    {
     "data": {
      "text/plain": [
       "'World'"
      ]
     },
     "execution_count": 3,
     "metadata": {},
     "output_type": "execute_result"
    }
   ],
   "source": [
    "a= \"Hello, World!\"\n",
    "a[7:12:]"
   ]
  },
  {
   "cell_type": "markdown",
   "id": "41061636-75c5-41ac-96e0-3ab74b0dd34d",
   "metadata": {},
   "source": [
    "Q11. Create a variable named \"is_student\" and assign it a boolean value indicating whether you are\n",
    "currently a student or not."
   ]
  },
  {
   "cell_type": "code",
   "execution_count": 14,
   "id": "db3a4306-8fc9-4213-a53c-2b0cde5ec731",
   "metadata": {},
   "outputs": [],
   "source": [
    "b=\"is_student\""
   ]
  },
  {
   "cell_type": "code",
   "execution_count": 16,
   "id": "f3e30f56-e6fc-4834-b179-d9179c77f747",
   "metadata": {},
   "outputs": [
    {
     "data": {
      "text/plain": [
       "'is_student'"
      ]
     },
     "execution_count": 16,
     "metadata": {},
     "output_type": "execute_result"
    }
   ],
   "source": [
    "b"
   ]
  },
  {
   "cell_type": "code",
   "execution_count": 18,
   "id": "a2495a91-5aac-4948-826f-e120ae04c69a",
   "metadata": {},
   "outputs": [
    {
     "data": {
      "text/plain": [
       "True"
      ]
     },
     "execution_count": 18,
     "metadata": {},
     "output_type": "execute_result"
    }
   ],
   "source": [
    "\"is_student\" in b"
   ]
  },
  {
   "cell_type": "code",
   "execution_count": null,
   "id": "05f68d87-7038-4707-93ac-aff241f86b8a",
   "metadata": {},
   "outputs": [],
   "source": []
  }
 ],
 "metadata": {
  "kernelspec": {
   "display_name": "Python 3 (ipykernel)",
   "language": "python",
   "name": "python3"
  },
  "language_info": {
   "codemirror_mode": {
    "name": "ipython",
    "version": 3
   },
   "file_extension": ".py",
   "mimetype": "text/x-python",
   "name": "python",
   "nbconvert_exporter": "python",
   "pygments_lexer": "ipython3",
   "version": "3.10.8"
  }
 },
 "nbformat": 4,
 "nbformat_minor": 5
}
