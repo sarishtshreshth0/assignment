{
  "nbformat": 4,
  "nbformat_minor": 0,
  "metadata": {
    "colab": {
      "provenance": []
    },
    "kernelspec": {
      "name": "python3",
      "display_name": "Python 3"
    },
    "language_info": {
      "name": "python"
    }
  },
  "cells": [
    {
      "cell_type": "code",
      "source": [
        "Q1. Explain the difference between linear regression and logistic regression models. Provide an example of\n",
        "a scenario where logistic regression would be more appropriate.\n"
      ],
      "metadata": {
        "id": "HkUq8-zPVMNf"
      },
      "execution_count": null,
      "outputs": []
    },
    {
      "cell_type": "code",
      "source": [
        "In linear regression we solve continous data problems but in logistc regression we solve classification data problems"
      ],
      "metadata": {
        "id": "yf6trG4LVcSx"
      },
      "execution_count": null,
      "outputs": []
    },
    {
      "cell_type": "code",
      "source": [
        "Q2. What is the cost function used in logistic regression, and how is it optimized?\n"
      ],
      "metadata": {
        "id": "asPrBXHwVOY0"
      },
      "execution_count": null,
      "outputs": []
    },
    {
      "cell_type": "code",
      "source": [
        "In logistic regression we use log loss function to optimize the model and we use gradient descent to optimize the model"
      ],
      "metadata": {
        "id": "vZWAxgqHVcvF"
      },
      "execution_count": null,
      "outputs": []
    },
    {
      "cell_type": "code",
      "source": [
        "Q3. Explain the concept of regularization in logistic regression and how it helps prevent overfitting.\n"
      ],
      "metadata": {
        "id": "KnOS8aEGVRvr"
      },
      "execution_count": null,
      "outputs": []
    },
    {
      "cell_type": "code",
      "source": [
        "L2 regularization(Ridge Regression) is used is to prevent overfitting in logistic regression, and it helps prevent overfitting by adding a penalty term to the cost function."
      ],
      "metadata": {
        "id": "1G5QEYZkVRr3"
      },
      "execution_count": null,
      "outputs": []
    },
    {
      "cell_type": "code",
      "source": [
        "Q4. What is the ROC curve, and how is it used to evaluate the performance of the logistic regression\n",
        "model?\n"
      ],
      "metadata": {
        "id": "RaVTiwthVRkJ"
      },
      "execution_count": null,
      "outputs": []
    },
    {
      "cell_type": "code",
      "source": [
        "ROC curve is used to evaluate the performance of the logistic regression model. in Classification problems we classes is imblanaced"
      ],
      "metadata": {
        "id": "LFVHnmKkVdQY"
      },
      "execution_count": null,
      "outputs": []
    },
    {
      "cell_type": "code",
      "source": [
        "Q5. What are some common techniques for feature selection in logistic regression? How do these\n",
        "techniques help improve the model's performance?\n"
      ],
      "metadata": {
        "id": "2xs8XTAzVRXt"
      },
      "execution_count": null,
      "outputs": []
    },
    {
      "cell_type": "code",
      "source": [
        "In L1 Regularization (lasso) least important tends to zero and it's helps to select important features these technqiues help to improve the model's performance."
      ],
      "metadata": {
        "id": "HCrnWm5rXhSK"
      },
      "execution_count": null,
      "outputs": []
    },
    {
      "cell_type": "code",
      "source": [
        "Q6. How can you handle imbalanced datasets in logistic regression? What are some strategies for dealing\n",
        "with class imbalance?\n"
      ],
      "metadata": {
        "id": "DlDu98S2VW9c"
      },
      "execution_count": null,
      "outputs": []
    },
    {
      "cell_type": "code",
      "source": [
        "Oversampling (SMOTE – Synthetic Minority Over-sampling Technique) , Undersampling:"
      ],
      "metadata": {
        "id": "P4r2nw-EVdzk"
      },
      "execution_count": null,
      "outputs": []
    },
    {
      "cell_type": "code",
      "source": [
        "Q7. Can you discuss some common issues and challenges that may arise when implementing logistic\n",
        "regression, and how they can be addressed? For example, what can be done if there is multicollinearity\n",
        "among the independent variables?"
      ],
      "metadata": {
        "id": "Z2EKelWNVYd4"
      },
      "execution_count": null,
      "outputs": []
    },
    {
      "cell_type": "code",
      "source": [
        "When independent features are highly correlated to each other for overcomes this problem we use l2 regularization(Ridge Regression)"
      ],
      "metadata": {
        "id": "vW-b_JpdVe1C"
      },
      "execution_count": null,
      "outputs": []
    }
  ]
}