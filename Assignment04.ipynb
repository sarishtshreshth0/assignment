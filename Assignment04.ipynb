{
 "cells": [
  {
   "cell_type": "markdown",
   "id": "9f0e8599-dec5-4905-a4a0-74de5f9d767a",
   "metadata": {},
   "source": [
    "Q1. Create a python program to sort the given list of tuples based on integer value using a\n",
    "lambda function.\n",
    "[('Sachin Tendulkar', 34357), ('Ricky Ponting', 27483), ('Jack Kallis', 25534), ('Virat Kohli', 24936)]\n"
   ]
  },
  {
   "cell_type": "code",
   "execution_count": 73,
   "id": "19eafd8e-f693-4e65-a838-84ef61c8fdb7",
   "metadata": {},
   "outputs": [],
   "source": [
    "l1=[('Sachin Tendulkar', 34357), ('Ricky Ponting', 27483), ('Jack Kallis', 25534), ('Virat Kohli', 24936)]"
   ]
  },
  {
   "cell_type": "code",
   "execution_count": 132,
   "id": "b59d1074-bdaa-4e15-8907-85d6b495a7c8",
   "metadata": {},
   "outputs": [
    {
     "name": "stdout",
     "output_type": "stream",
     "text": [
      "[('Virat Kohli', 24936), ('Jack Kallis', 25534), ('Ricky Ponting', 27483), ('Sachin Tendulkar', 34357)]\n"
     ]
    }
   ],
   "source": [
    "players = [('Sachin Tendulkar', 34357), ('Ricky Ponting', 27483), ('Jack Kallis', 25534), ('Virat Kohli', 24936)]\n",
    "\n",
    "sorted_players = sorted(players, key=lambda x: x[1])\n",
    "\n",
    "print(sorted_players)\n"
   ]
  },
  {
   "cell_type": "markdown",
   "id": "82c5fec2-9b79-4f56-a433-9c82d96776e9",
   "metadata": {},
   "source": [
    "Q2. Write a Python Program to find the squares of all the numbers in the given list of integers using\n",
    "lambda and map functions.\n",
    "[1, 2, 3, 4, 5, 6, 7, 8, 9, 10]\n"
   ]
  },
  {
   "cell_type": "code",
   "execution_count": 80,
   "id": "108dc41b-7292-4e97-9a11-b20864c83eb7",
   "metadata": {},
   "outputs": [
    {
     "data": {
      "text/plain": [
       "[1, 4, 9, 16, 25, 36, 49, 64, 81, 100]"
      ]
     },
     "execution_count": 80,
     "metadata": {},
     "output_type": "execute_result"
    }
   ],
   "source": [
    "l2=[1, 2, 3, 4, 5, 6, 7, 8, 9, 10]\n",
    "list(map(lambda x:x**2, l2))"
   ]
  },
  {
   "cell_type": "markdown",
   "id": "8fc8db1f-b54c-441b-b097-703ddc703b49",
   "metadata": {},
   "source": [
    "Q3. Write a python program to convert the given list of integers into a tuple of strings. Use map and\n",
    "lambda functions\n",
    "Given String: [1, 2, 3, 4, 5, 6, 7, 8, 9, 10]\n",
    "Expected output: ('1', '2', '3', '4', '5', '6', '7', '8', '9', '10')\n"
   ]
  },
  {
   "cell_type": "code",
   "execution_count": 50,
   "id": "a1701031-04a1-4d94-aeb4-ad3a7d6ede5f",
   "metadata": {},
   "outputs": [],
   "source": [
    "k = [1, 2, 3, 4, 5, 6, 7, 8, 9, 10]"
   ]
  },
  {
   "cell_type": "code",
   "execution_count": 51,
   "id": "cb1e8986-e8a6-460d-a643-2562b9cc61a0",
   "metadata": {},
   "outputs": [
    {
     "data": {
      "text/plain": [
       "[1, 2, 3, 4, 5, 6, 7, 8, 9, 10]"
      ]
     },
     "execution_count": 51,
     "metadata": {},
     "output_type": "execute_result"
    }
   ],
   "source": [
    "k"
   ]
  },
  {
   "cell_type": "code",
   "execution_count": 72,
   "id": "5ef3afa0-5052-4ce7-87d7-0536f767607d",
   "metadata": {},
   "outputs": [
    {
     "data": {
      "text/plain": [
       "('1', '2', '3', '4', '5', '6', '7', '8', '9', '10')"
      ]
     },
     "execution_count": 72,
     "metadata": {},
     "output_type": "execute_result"
    }
   ],
   "source": [
    "tuple(list(map(lambda x:str(x) , k)))"
   ]
  },
  {
   "cell_type": "markdown",
   "id": "3d06329d-5a5b-4846-8019-d8d3a3ed3649",
   "metadata": {},
   "source": [
    "Q4. Write a python program using reduce function to compute the product of a list containing numbers\n",
    "from 1 to 25.\n"
   ]
  },
  {
   "cell_type": "code",
   "execution_count": 48,
   "id": "d8cf8ac3-8422-482e-9a62-28aa88fd13f9",
   "metadata": {},
   "outputs": [],
   "source": [
    "from functools import reduce"
   ]
  },
  {
   "cell_type": "code",
   "execution_count": 49,
   "id": "e521d40a-4970-4e30-b0fe-8264e65d82fd",
   "metadata": {},
   "outputs": [
    {
     "data": {
      "text/plain": [
       "15511210043330985984000000"
      ]
     },
     "execution_count": 49,
     "metadata": {},
     "output_type": "execute_result"
    }
   ],
   "source": [
    "reduce(lambda x,y:x*y, range(1,26))"
   ]
  },
  {
   "cell_type": "markdown",
   "id": "300cc283-cbb4-4168-8c04-6273ae80e490",
   "metadata": {},
   "source": [
    "Q5. Write a python program to filter the numbers in a given list that are divisible by 2 and 3 using the\n",
    "filter function.\n",
    "[2, 3, 6, 9, 27, 60, 90, 120, 55, 46]\n"
   ]
  },
  {
   "cell_type": "code",
   "execution_count": 131,
   "id": "c90b56be-b5aa-4e51-bf73-fabc52200cd3",
   "metadata": {},
   "outputs": [
    {
     "data": {
      "text/plain": [
       "[6, 60, 90, 120]"
      ]
     },
     "execution_count": 131,
     "metadata": {},
     "output_type": "execute_result"
    }
   ],
   "source": [
    "l5=[2, 3, 6, 9, 27, 60, 90, 120, 55, 46]\n",
    "divisible=list(filter(lambda x:x%2==0 and x%3==0, l5))\n",
    "divisible"
   ]
  },
  {
   "cell_type": "markdown",
   "id": "b62500f6-7809-48c4-8b89-769bb41b5619",
   "metadata": {},
   "source": [
    "Q6. Write a python program to find palindromes in the given list of strings using lambda and filter\n",
    "function.\n",
    "['python', 'php', 'aba', 'radar', 'level']"
   ]
  },
  {
   "cell_type": "code",
   "execution_count": 74,
   "id": "4c34d090-cbf5-4dcd-b147-f591a9caede7",
   "metadata": {},
   "outputs": [],
   "source": [
    "l1=['python', 'php', 'aba', 'radar', 'level']"
   ]
  },
  {
   "cell_type": "code",
   "execution_count": 75,
   "id": "39bfe621-c23a-4e98-b8b1-883c984c2797",
   "metadata": {},
   "outputs": [
    {
     "data": {
      "text/plain": [
       "['python', 'php', 'aba', 'radar', 'level']"
      ]
     },
     "execution_count": 75,
     "metadata": {},
     "output_type": "execute_result"
    }
   ],
   "source": [
    "l1"
   ]
  },
  {
   "cell_type": "code",
   "execution_count": 78,
   "id": "83e2a260-acbc-4ad0-99ac-a47fe426d247",
   "metadata": {},
   "outputs": [
    {
     "data": {
      "text/plain": [
       "'nohtyp'"
      ]
     },
     "execution_count": 78,
     "metadata": {},
     "output_type": "execute_result"
    }
   ],
   "source": [
    "l1[0][::-1]"
   ]
  },
  {
   "cell_type": "code",
   "execution_count": 104,
   "id": "a07f4a3e-09a5-4e5c-a00f-6a48c72933ae",
   "metadata": {},
   "outputs": [],
   "source": [
    "l3=[]\n",
    "def palindromes():\n",
    "    for i in range(0,5):\n",
    "        if l1[i][::-1]== l1[i][::1]:\n",
    "            print(\"palindromes\")\n",
    "    else:\n",
    "            print(\"oops\")"
   ]
  },
  {
   "cell_type": "code",
   "execution_count": null,
   "id": "90a720b3-e4f6-49fe-8b9f-b87ce8f52bd7",
   "metadata": {},
   "outputs": [],
   "source": []
  },
  {
   "cell_type": "code",
   "execution_count": 115,
   "id": "d235f27d-16fe-4490-998e-5657475df90a",
   "metadata": {},
   "outputs": [
    {
     "name": "stdout",
     "output_type": "stream",
     "text": [
      "palindromes\n",
      "palindromes\n",
      "palindromes\n",
      "palindromes\n",
      "oops\n",
      "palindromes\n",
      "palindromes\n",
      "palindromes\n",
      "palindromes\n",
      "oops\n",
      "palindromes\n",
      "palindromes\n",
      "palindromes\n",
      "palindromes\n",
      "oops\n",
      "palindromes\n",
      "palindromes\n",
      "palindromes\n",
      "palindromes\n",
      "oops\n",
      "palindromes\n",
      "palindromes\n",
      "palindromes\n",
      "palindromes\n",
      "oops\n"
     ]
    },
    {
     "data": {
      "text/plain": [
       "[]"
      ]
     },
     "execution_count": 115,
     "metadata": {},
     "output_type": "execute_result"
    }
   ],
   "source": [
    "list(filter(lambda x:palindromes(),l1))"
   ]
  },
  {
   "cell_type": "code",
   "execution_count": null,
   "id": "a7aaa432-119f-4d37-82ee-fa2cab5ccb75",
   "metadata": {},
   "outputs": [],
   "source": []
  }
 ],
 "metadata": {
  "kernelspec": {
   "display_name": "Python 3 (ipykernel)",
   "language": "python",
   "name": "python3"
  },
  "language_info": {
   "codemirror_mode": {
    "name": "ipython",
    "version": 3
   },
   "file_extension": ".py",
   "mimetype": "text/x-python",
   "name": "python",
   "nbconvert_exporter": "python",
   "pygments_lexer": "ipython3",
   "version": "3.10.8"
  }
 },
 "nbformat": 4,
 "nbformat_minor": 5
}
