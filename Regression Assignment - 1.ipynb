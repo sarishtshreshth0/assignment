{
 "cells": [
  {
   "cell_type": "code",
   "execution_count": 1,
   "id": "22b6d70f-09ea-4d08-adb5-a50759659e68",
   "metadata": {},
   "outputs": [],
   "source": [
    "import pandas as pd "
   ]
  },
  {
   "cell_type": "code",
   "execution_count": null,
   "id": "0cfce09e-62db-4ac3-a1f2-61a03c01a342",
   "metadata": {},
   "outputs": [],
   "source": [
    " Q1. Explain the difference between simple linear regression and multiple linear regression. Provide an\n",
    "example of each.\n"
   ]
  },
  {
   "cell_type": "markdown",
   "id": "7414f132-35a7-4f45-b40a-416a4d01f2a6",
   "metadata": {},
   "source": [
    "In Simple linear regression we have only one inpdependent features but in multiple regression their will be more than one inpendent features "
   ]
  },
  {
   "cell_type": "code",
   "execution_count": null,
   "id": "5e9b86a0-610d-40c7-aae3-b474e348baaa",
   "metadata": {},
   "outputs": [],
   "source": [
    "Q2. Discuss the assumptions of linear regression. How can you check whether these assumptions hold in\n",
    "a given dataset?\n"
   ]
  },
  {
   "cell_type": "markdown",
   "id": "e8d69935-2630-4e99-be77-274475a1fb3f",
   "metadata": {},
   "source": [
    "\n",
    "Assumptions of Linear Regression\n",
    "Linear regression relies on several key assumptions to ensure that the model produces accurate and reliable results. These assumptions are crucial because violations can lead to biased estimates, incorrect inferences, and poor predictive performance. Here are the main assumptions:\n",
    "\n",
    " Linearity:\n",
    "The relationship between the independent variables (X) and the dependent variable (y) should be linear. This means the change in the dependent variable is proportional to the change in the independent variables.\n",
    " No Multicollinearity:\n",
    "In multiple regression, the independent variables should not be too highly correlated with each other. High correlation between predictors can make it difficult to determine the effect of each independent variable on the dependent variable, leading to unreliable coefficient estimates."
   ]
  },
  {
   "cell_type": "code",
   "execution_count": null,
   "id": "43c52b62-d85b-4211-98a4-946e8943f3ba",
   "metadata": {},
   "outputs": [],
   "source": [
    "Q3. How do you interpret the slope and intercept in a linear regression model? Provide an example using\n",
    "a real-world scenario.\n"
   ]
  },
  {
   "cell_type": "markdown",
   "id": "6d1f57a6-631f-4865-9bb6-1328cb49e076",
   "metadata": {},
   "source": [
    "B(x) = Bo + B1*x1\n",
    "B1 is slope and Bo is intercept\n",
    "Real-World Example: Predicting House Prices\n",
    "Let’s say you are building a simple linear regression model to predict the price of a house based on its size (in square feet).\n",
    "\n",
    "The equation of the linear regression model can be written as:\n",
    "\n",
    "Intercept (b₀): If b₀ is 50,000, it means that when the size of the house is 0 square feet (which may not make sense practically, but it’s the mathematical interpretation), the predicted price is $50,000. This can represent the base value of the house, accounting for factors like land value or fixed costs.\n",
    "\n",
    "Slope (b₁): If b₁ is 200, it means that for every additional square foot of house size, the price increases by $200. For example, a house that is 1,000 square feet larger than another will be $200,000 more expensive, assuming all other factors remain constant."
   ]
  },
  {
   "cell_type": "code",
   "execution_count": null,
   "id": "6169d69a-6515-4252-a6db-aef97006378e",
   "metadata": {},
   "outputs": [],
   "source": [
    "Q4. Explain the concept of gradient descent. How is it used in machine learning?\n"
   ]
  },
  {
   "cell_type": "markdown",
   "id": "2db7873b-a8f6-49cd-868f-a9bd145a7cf4",
   "metadata": {},
   "source": [
    "The gradient is the partial derivative of the cost function with respect to the model parameters. It gives the slope of the cost function at the current point"
   ]
  },
  {
   "cell_type": "code",
   "execution_count": null,
   "id": "e3bca41b-cfcc-4db9-af11-9f58695ea3f8",
   "metadata": {},
   "outputs": [],
   "source": [
    "Q5. Describe the multiple linear regression model. How does it differ from simple linear regression?\n"
   ]
  },
  {
   "cell_type": "markdown",
   "id": "ce784e77-a45f-4985-9dca-fdf43ef8b2f1",
   "metadata": {},
   "source": [
    "In Simple linear regression we have only one inpdependent features but in multiple regression their will be more than one inpendent features "
   ]
  },
  {
   "cell_type": "code",
   "execution_count": null,
   "id": "a6322803-4851-4978-b652-a142abacfa45",
   "metadata": {},
   "outputs": [],
   "source": [
    "Q6. Explain the concept of multicollinearity in multiple linear regression. How can you detect and\n",
    "address this issue?\n"
   ]
  },
  {
   "cell_type": "markdown",
   "id": "07147e9d-f7a3-4cc7-961c-b54588039c3c",
   "metadata": {},
   "source": [
    "Multicollinearity occurs in multiple linear regression when two or more independent variables are highly correlated with each other. This means that the variables share a strong linear relationship, which can create problems in the model"
   ]
  },
  {
   "cell_type": "code",
   "execution_count": null,
   "id": "14c8730d-73e7-4c8a-b39c-1185877781ef",
   "metadata": {},
   "outputs": [],
   "source": [
    "Q7. Describe the polynomial regression model. How is it different from linear regression?\n"
   ]
  },
  {
   "cell_type": "markdown",
   "id": "930eb641-e438-4999-b1b9-aa15ce909154",
   "metadata": {},
   "source": [
    " Linear Regression:\n",
    "Linear regression is used when the relationship between the independent variable(s) and the dependent variable is approximately linear. This means that as the independent variable(s) increase or decrease, the dependent variable increases or decreases in a straight-line fashion.\n",
    "\n",
    "Example: If you are predicting a person’s salary based on years of experience, and the relationship is more or less linear (more experience leads to a higher salary), linear regression can effectively model this.\n",
    "\n",
    "Exponential Growth:\n",
    "When the data shows an exponential growth pattern (e.g., increasing at an accelerating rate), linear regression is not appropriate because the relationship between the independent and dependent variables is not linear.\n",
    "\n",
    "However, in such cases, polynomial regression may not always be the best solution. For exponential growth, there are better models such as:\n",
    "\n",
    "Exponential regression: This directly models exponential relationships.\n",
    "Logarithmic transformation: By taking the logarithm of the dependent variable, you can transform the exponential relationship into a linear one, allowing you to use linear regression after the transformation."
   ]
  },
  {
   "cell_type": "code",
   "execution_count": null,
   "id": "b2c1c136-6075-425a-b6d7-f728f5f67832",
   "metadata": {},
   "outputs": [],
   "source": [
    "Q8. What are the advantages and disadvantages of polynomial regression compared to linear\n",
    "regression? In what situations would you prefer to use polynomial regression?"
   ]
  },
  {
   "cell_type": "markdown",
   "id": "6bad12fd-75d0-4787-8ac1-1c36284e8a8a",
   "metadata": {},
   "source": [
    "when relationship between independent features and dependent features is exponential then we use polynomial"
   ]
  },
  {
   "cell_type": "code",
   "execution_count": null,
   "id": "74fa4033-18c8-4d5a-a17b-0c8b1dc33d22",
   "metadata": {},
   "outputs": [],
   "source": []
  }
 ],
 "metadata": {
  "kernelspec": {
   "display_name": "Python 3 (ipykernel)",
   "language": "python",
   "name": "python3"
  },
  "language_info": {
   "codemirror_mode": {
    "name": "ipython",
    "version": 3
   },
   "file_extension": ".py",
   "mimetype": "text/x-python",
   "name": "python",
   "nbconvert_exporter": "python",
   "pygments_lexer": "ipython3",
   "version": "3.11.5"
  }
 },
 "nbformat": 4,
 "nbformat_minor": 5
}
